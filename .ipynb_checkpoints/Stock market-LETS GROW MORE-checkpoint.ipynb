{
 "cells": [
  {
   "cell_type": "markdown",
   "id": "2e2c807c",
   "metadata": {},
   "source": [
    "# LETS GROW MORE-DATA SCIENCE\n",
    "\n",
    "### AUTHOR: Sambitha P Santhosh\n",
    "\n",
    "### OBJECTIVE: Stock Market Prediction And Forecasting Using Stacked LSTM"
   ]
  },
  {
   "cell_type": "code",
   "execution_count": 1,
   "id": "5503c5ec",
   "metadata": {},
   "outputs": [],
   "source": [
    "#Import necessary Libraries\n",
    "import pandas as pd\n",
    "import numpy as np\n",
    "import math\n",
    "import matplotlib.pyplot as plt\n",
    "from sklearn.preprocessing import MinMaxScaler\n",
    "from sklearn.metrics import mean_squared_error\n",
    "import tensorflow as tf\n",
    "from tensorflow.python.keras.models import Sequential\n",
    "from tensorflow.python.keras.layers import Dense\n",
    "from tensorflow.python.keras.layers import LSTM\n",
    "%matplotlib inline"
   ]
  },
  {
   "cell_type": "code",
   "execution_count": 2,
   "id": "8d9ce597",
   "metadata": {},
   "outputs": [
    {
     "data": {
      "text/html": [
       "<div>\n",
       "<style scoped>\n",
       "    .dataframe tbody tr th:only-of-type {\n",
       "        vertical-align: middle;\n",
       "    }\n",
       "\n",
       "    .dataframe tbody tr th {\n",
       "        vertical-align: top;\n",
       "    }\n",
       "\n",
       "    .dataframe thead th {\n",
       "        text-align: right;\n",
       "    }\n",
       "</style>\n",
       "<table border=\"1\" class=\"dataframe\">\n",
       "  <thead>\n",
       "    <tr style=\"text-align: right;\">\n",
       "      <th></th>\n",
       "      <th>Date</th>\n",
       "      <th>Open</th>\n",
       "      <th>High</th>\n",
       "      <th>Low</th>\n",
       "      <th>Last</th>\n",
       "      <th>Close</th>\n",
       "      <th>Total Trade Quantity</th>\n",
       "      <th>Turnover (Lacs)</th>\n",
       "    </tr>\n",
       "  </thead>\n",
       "  <tbody>\n",
       "    <tr>\n",
       "      <th>0</th>\n",
       "      <td>2018-09-28</td>\n",
       "      <td>234.05</td>\n",
       "      <td>235.95</td>\n",
       "      <td>230.20</td>\n",
       "      <td>233.50</td>\n",
       "      <td>233.75</td>\n",
       "      <td>3069914</td>\n",
       "      <td>7162.35</td>\n",
       "    </tr>\n",
       "    <tr>\n",
       "      <th>1</th>\n",
       "      <td>2018-09-27</td>\n",
       "      <td>234.55</td>\n",
       "      <td>236.80</td>\n",
       "      <td>231.10</td>\n",
       "      <td>233.80</td>\n",
       "      <td>233.25</td>\n",
       "      <td>5082859</td>\n",
       "      <td>11859.95</td>\n",
       "    </tr>\n",
       "    <tr>\n",
       "      <th>2</th>\n",
       "      <td>2018-09-26</td>\n",
       "      <td>240.00</td>\n",
       "      <td>240.00</td>\n",
       "      <td>232.50</td>\n",
       "      <td>235.00</td>\n",
       "      <td>234.25</td>\n",
       "      <td>2240909</td>\n",
       "      <td>5248.60</td>\n",
       "    </tr>\n",
       "    <tr>\n",
       "      <th>3</th>\n",
       "      <td>2018-09-25</td>\n",
       "      <td>233.30</td>\n",
       "      <td>236.75</td>\n",
       "      <td>232.00</td>\n",
       "      <td>236.25</td>\n",
       "      <td>236.10</td>\n",
       "      <td>2349368</td>\n",
       "      <td>5503.90</td>\n",
       "    </tr>\n",
       "    <tr>\n",
       "      <th>4</th>\n",
       "      <td>2018-09-24</td>\n",
       "      <td>233.55</td>\n",
       "      <td>239.20</td>\n",
       "      <td>230.75</td>\n",
       "      <td>234.00</td>\n",
       "      <td>233.30</td>\n",
       "      <td>3423509</td>\n",
       "      <td>7999.55</td>\n",
       "    </tr>\n",
       "    <tr>\n",
       "      <th>...</th>\n",
       "      <td>...</td>\n",
       "      <td>...</td>\n",
       "      <td>...</td>\n",
       "      <td>...</td>\n",
       "      <td>...</td>\n",
       "      <td>...</td>\n",
       "      <td>...</td>\n",
       "      <td>...</td>\n",
       "    </tr>\n",
       "    <tr>\n",
       "      <th>2030</th>\n",
       "      <td>2010-07-27</td>\n",
       "      <td>117.60</td>\n",
       "      <td>119.50</td>\n",
       "      <td>112.00</td>\n",
       "      <td>118.80</td>\n",
       "      <td>118.65</td>\n",
       "      <td>586100</td>\n",
       "      <td>694.98</td>\n",
       "    </tr>\n",
       "    <tr>\n",
       "      <th>2031</th>\n",
       "      <td>2010-07-26</td>\n",
       "      <td>120.10</td>\n",
       "      <td>121.00</td>\n",
       "      <td>117.10</td>\n",
       "      <td>117.10</td>\n",
       "      <td>117.60</td>\n",
       "      <td>658440</td>\n",
       "      <td>780.01</td>\n",
       "    </tr>\n",
       "    <tr>\n",
       "      <th>2032</th>\n",
       "      <td>2010-07-23</td>\n",
       "      <td>121.80</td>\n",
       "      <td>121.95</td>\n",
       "      <td>120.25</td>\n",
       "      <td>120.35</td>\n",
       "      <td>120.65</td>\n",
       "      <td>281312</td>\n",
       "      <td>340.31</td>\n",
       "    </tr>\n",
       "    <tr>\n",
       "      <th>2033</th>\n",
       "      <td>2010-07-22</td>\n",
       "      <td>120.30</td>\n",
       "      <td>122.00</td>\n",
       "      <td>120.25</td>\n",
       "      <td>120.75</td>\n",
       "      <td>120.90</td>\n",
       "      <td>293312</td>\n",
       "      <td>355.17</td>\n",
       "    </tr>\n",
       "    <tr>\n",
       "      <th>2034</th>\n",
       "      <td>2010-07-21</td>\n",
       "      <td>122.10</td>\n",
       "      <td>123.00</td>\n",
       "      <td>121.05</td>\n",
       "      <td>121.10</td>\n",
       "      <td>121.55</td>\n",
       "      <td>658666</td>\n",
       "      <td>803.56</td>\n",
       "    </tr>\n",
       "  </tbody>\n",
       "</table>\n",
       "<p>2035 rows × 8 columns</p>\n",
       "</div>"
      ],
      "text/plain": [
       "            Date    Open    High     Low    Last   Close  \\\n",
       "0     2018-09-28  234.05  235.95  230.20  233.50  233.75   \n",
       "1     2018-09-27  234.55  236.80  231.10  233.80  233.25   \n",
       "2     2018-09-26  240.00  240.00  232.50  235.00  234.25   \n",
       "3     2018-09-25  233.30  236.75  232.00  236.25  236.10   \n",
       "4     2018-09-24  233.55  239.20  230.75  234.00  233.30   \n",
       "...          ...     ...     ...     ...     ...     ...   \n",
       "2030  2010-07-27  117.60  119.50  112.00  118.80  118.65   \n",
       "2031  2010-07-26  120.10  121.00  117.10  117.10  117.60   \n",
       "2032  2010-07-23  121.80  121.95  120.25  120.35  120.65   \n",
       "2033  2010-07-22  120.30  122.00  120.25  120.75  120.90   \n",
       "2034  2010-07-21  122.10  123.00  121.05  121.10  121.55   \n",
       "\n",
       "      Total Trade Quantity  Turnover (Lacs)  \n",
       "0                  3069914          7162.35  \n",
       "1                  5082859         11859.95  \n",
       "2                  2240909          5248.60  \n",
       "3                  2349368          5503.90  \n",
       "4                  3423509          7999.55  \n",
       "...                    ...              ...  \n",
       "2030                586100           694.98  \n",
       "2031                658440           780.01  \n",
       "2032                281312           340.31  \n",
       "2033                293312           355.17  \n",
       "2034                658666           803.56  \n",
       "\n",
       "[2035 rows x 8 columns]"
      ]
     },
     "execution_count": 2,
     "metadata": {},
     "output_type": "execute_result"
    }
   ],
   "source": [
    "df = pd.read_csv('https://raw.githubusercontent.com/mwitiderrick/stockprice/master/NSE-TATAGLOBAL.csv')\n",
    "df = df.dropna()\n",
    "df"
   ]
  },
  {
   "cell_type": "code",
   "execution_count": 3,
   "id": "7744a43d",
   "metadata": {},
   "outputs": [],
   "source": [
    "df1 = df['Close']"
   ]
  },
  {
   "cell_type": "code",
   "execution_count": 4,
   "id": "82da75bc",
   "metadata": {},
   "outputs": [
    {
     "data": {
      "text/plain": [
       "(2035,)"
      ]
     },
     "execution_count": 4,
     "metadata": {},
     "output_type": "execute_result"
    }
   ],
   "source": [
    "df1.shape"
   ]
  },
  {
   "cell_type": "code",
   "execution_count": 5,
   "id": "c0ba8310",
   "metadata": {},
   "outputs": [
    {
     "data": {
      "text/plain": [
       "[<matplotlib.lines.Line2D at 0x251d8da4af0>]"
      ]
     },
     "execution_count": 5,
     "metadata": {},
     "output_type": "execute_result"
    },
    {
     "data": {
      "image/png": "[encoded data removed]",
      "text/plain": [
       "<Figure size 432x288 with 1 Axes>"
      ]
     },
     "metadata": {
      "needs_background": "light"
     },
     "output_type": "display_data"
    }
   ],
   "source": [
    "plt.plot(df1)"
   ]
  },
  {
   "cell_type": "code",
   "execution_count": 8,
   "id": "3a6d7c13",
   "metadata": {},
   "outputs": [],
   "source": [
    "#Since LSTM are sensitive to the scale of the data, so we apply MinMax Scaler to transform our values between 0 and 1\n",
    "scaler = MinMaxScaler(feature_range = (0,1))\n",
    "df1 = scaler.fit_transform(np.array(df1).reshape(-1,1))\n",
    "df1 = scaler.inverse_transform(df1)"
   ]
  },
  {
   "cell_type": "code",
   "execution_count": 9,
   "id": "7c2046cb",
   "metadata": {},
   "outputs": [
    {
     "data": {
      "text/plain": [
       "(2035, 1)"
      ]
     },
     "execution_count": 9,
     "metadata": {},
     "output_type": "execute_result"
    }
   ],
   "source": [
    "df1.shape"
   ]
  },
  {
   "cell_type": "code",
   "execution_count": 10,
   "id": "5fb0fd2c",
   "metadata": {},
   "outputs": [],
   "source": [
    "#Split the data into train and test split\n",
    "training_size=int(len(df1)*0.8)\n",
    "test_size=len(df1)-training_size\n",
    "train_data,test_data=df1[0:training_size,:],df1[training_size:len(df1),:1]"
   ]
  },
  {
   "cell_type": "code",
   "execution_count": 11,
   "id": "73dd3331",
   "metadata": {},
   "outputs": [],
   "source": [
    "#data preprocessing\n",
    "def create_dataset(dataset, time_step = 1):\n",
    "    dataX, dataY = [], []\n",
    "    for i in range(len(dataset) - time_step - 1):\n",
    "        a = dataset[i:(i+time_step), 0]\n",
    "        dataX.append(a)\n",
    "        dataY.append(dataset[i+time_step, 0])\n",
    "    return np.array(dataX), np.array(dataY)"
   ]
  },
  {
   "cell_type": "code",
   "execution_count": 12,
   "id": "e9072be8",
   "metadata": {},
   "outputs": [],
   "source": [
    "time_step = 100\n",
    "x_train, y_train = create_dataset(train_data, time_step)\n",
    "x_test, y_test = create_dataset(test_data, time_step)"
   ]
  },
  {
   "cell_type": "code",
   "execution_count": 13,
   "id": "c2bd40b8",
   "metadata": {},
   "outputs": [],
   "source": [
    "#Reshape the input to be [samples, time steps, features] which is the requirement of LSTM\n",
    "x_train = x_train.reshape(x_train.shape[0], x_train.shape[1], 1)\n",
    "x_test = x_test.reshape(x_test.shape[0], x_test.shape[1], 1)"
   ]
  },
  {
   "cell_type": "code",
   "execution_count": 14,
   "id": "dd9166aa",
   "metadata": {},
   "outputs": [],
   "source": [
    "#create the LSTM model\n",
    "model=Sequential()\n",
    "model.add(LSTM(50,return_sequences=True,input_shape=(100,1)))\n",
    "model.add(LSTM(50,return_sequences=True))\n",
    "model.add(LSTM(50))\n",
    "model.add(Dense(1))\n",
    "model.compile(loss='mean_squared_error',optimizer='adam')"
   ]
  },
  {
   "cell_type": "code",
   "execution_count": 15,
   "id": "be5f0791",
   "metadata": {},
   "outputs": [
    {
     "name": "stdout",
     "output_type": "stream",
     "text": [
      "Model: \"sequential\"\n",
      "_________________________________________________________________\n",
      "Layer (type)                 Output Shape              Param #   \n",
      "=================================================================\n",
      "lstm (LSTM)                  (None, 100, 50)           10400     \n",
      "_________________________________________________________________\n",
      "lstm_1 (LSTM)                (None, 100, 50)           20200     \n",
      "_________________________________________________________________\n",
      "lstm_2 (LSTM)                (None, 50)                20200     \n",
      "_________________________________________________________________\n",
      "dense (Dense)                (None, 1)                 51        \n",
      "=================================================================\n",
      "Total params: 50,851\n",
      "Trainable params: 50,851\n",
      "Non-trainable params: 0\n",
      "_________________________________________________________________\n"
     ]
    }
   ],
   "source": [
    "model.summary()"
   ]
  },
  {
   "cell_type": "code",
   "execution_count": 16,
   "id": "d988382d",
   "metadata": {},
   "outputs": [
    {
     "name": "stdout",
     "output_type": "stream",
     "text": [
      "Epoch 1/100\n",
      "24/24 [==============================] - 10s 191ms/step - loss: 0.0247 - val_loss: 0.0057\n",
      "Epoch 2/100\n",
      "24/24 [==============================] - 4s 163ms/step - loss: 0.0024 - val_loss: 7.8395e-04\n",
      "Epoch 3/100\n",
      "24/24 [==============================] - 4s 164ms/step - loss: 0.0015 - val_loss: 0.0014\n",
      "Epoch 4/100\n",
      "24/24 [==============================] - 4s 166ms/step - loss: 0.0014 - val_loss: 8.9955e-04\n",
      "Epoch 5/100\n",
      "24/24 [==============================] - 4s 162ms/step - loss: 0.0015 - val_loss: 9.5835e-04\n",
      "Epoch 6/100\n",
      "24/24 [==============================] - 4s 162ms/step - loss: 0.0012 - val_loss: 7.1475e-04\n",
      "Epoch 7/100\n",
      "24/24 [==============================] - 4s 164ms/step - loss: 0.0012 - val_loss: 7.2631e-04\n",
      "Epoch 8/100\n",
      "24/24 [==============================] - 4s 163ms/step - loss: 0.0012 - val_loss: 8.1609e-04\n",
      "Epoch 9/100\n",
      "24/24 [==============================] - 4s 164ms/step - loss: 0.0011 - val_loss: 7.8137e-04\n",
      "Epoch 10/100\n",
      "24/24 [==============================] - 4s 162ms/step - loss: 0.0010 - val_loss: 5.7176e-04\n",
      "Epoch 11/100\n",
      "24/24 [==============================] - 4s 164ms/step - loss: 9.8103e-04 - val_loss: 6.2643e-04\n",
      "Epoch 12/100\n",
      "24/24 [==============================] - 4s 164ms/step - loss: 9.3359e-04 - val_loss: 6.3909e-04\n",
      "Epoch 13/100\n",
      "24/24 [==============================] - 4s 163ms/step - loss: 8.9272e-04 - val_loss: 4.9680e-04\n",
      "Epoch 14/100\n",
      "24/24 [==============================] - 4s 162ms/step - loss: 7.9564e-04 - val_loss: 4.5007e-04\n",
      "Epoch 15/100\n",
      "24/24 [==============================] - 4s 163ms/step - loss: 7.9774e-04 - val_loss: 5.2055e-04\n",
      "Epoch 16/100\n",
      "24/24 [==============================] - 4s 164ms/step - loss: 7.5546e-04 - val_loss: 4.3508e-04\n",
      "Epoch 17/100\n",
      "24/24 [==============================] - 4s 164ms/step - loss: 7.1917e-04 - val_loss: 4.8059e-04\n",
      "Epoch 18/100\n",
      "24/24 [==============================] - 4s 162ms/step - loss: 7.0626e-04 - val_loss: 4.8771e-04\n",
      "Epoch 19/100\n",
      "24/24 [==============================] - 4s 162ms/step - loss: 7.0186e-04 - val_loss: 3.9305e-04\n",
      "Epoch 20/100\n",
      "24/24 [==============================] - 4s 166ms/step - loss: 6.9786e-04 - val_loss: 4.3442e-04\n",
      "Epoch 21/100\n",
      "24/24 [==============================] - 4s 177ms/step - loss: 7.2650e-04 - val_loss: 4.1209e-04\n",
      "Epoch 22/100\n",
      "24/24 [==============================] - 4s 161ms/step - loss: 7.0752e-04 - val_loss: 3.5665e-04\n",
      "Epoch 23/100\n",
      "24/24 [==============================] - 4s 161ms/step - loss: 7.7837e-04 - val_loss: 4.7287e-04\n",
      "Epoch 24/100\n",
      "24/24 [==============================] - 4s 164ms/step - loss: 5.9022e-04 - val_loss: 4.2327e-04\n",
      "Epoch 25/100\n",
      "24/24 [==============================] - 4s 164ms/step - loss: 5.8697e-04 - val_loss: 3.7761e-04\n",
      "Epoch 26/100\n",
      "24/24 [==============================] - 4s 161ms/step - loss: 5.6490e-04 - val_loss: 3.5073e-04\n",
      "Epoch 27/100\n",
      "24/24 [==============================] - 4s 163ms/step - loss: 5.7242e-04 - val_loss: 3.9159e-04\n",
      "Epoch 28/100\n",
      "24/24 [==============================] - 4s 163ms/step - loss: 6.2418e-04 - val_loss: 3.7030e-04\n",
      "Epoch 29/100\n",
      "24/24 [==============================] - 4s 167ms/step - loss: 5.4926e-04 - val_loss: 3.7245e-04\n",
      "Epoch 30/100\n",
      "24/24 [==============================] - 4s 164ms/step - loss: 5.6758e-04 - val_loss: 3.2282e-04\n",
      "Epoch 31/100\n",
      "24/24 [==============================] - 4s 163ms/step - loss: 6.0307e-04 - val_loss: 3.6336e-04\n",
      "Epoch 32/100\n",
      "24/24 [==============================] - 4s 164ms/step - loss: 5.7575e-04 - val_loss: 3.3946e-04\n",
      "Epoch 33/100\n",
      "24/24 [==============================] - 4s 166ms/step - loss: 5.0291e-04 - val_loss: 3.2861e-04\n",
      "Epoch 34/100\n",
      "24/24 [==============================] - 4s 164ms/step - loss: 4.9758e-04 - val_loss: 3.4247e-04\n",
      "Epoch 35/100\n",
      "24/24 [==============================] - 4s 163ms/step - loss: 5.2740e-04 - val_loss: 3.3685e-04\n",
      "Epoch 36/100\n",
      "24/24 [==============================] - 4s 164ms/step - loss: 4.6812e-04 - val_loss: 4.3256e-04\n",
      "Epoch 37/100\n",
      "24/24 [==============================] - 4s 165ms/step - loss: 4.8771e-04 - val_loss: 4.1521e-04\n",
      "Epoch 38/100\n",
      "24/24 [==============================] - 4s 162ms/step - loss: 4.5600e-04 - val_loss: 3.9947e-04\n",
      "Epoch 39/100\n",
      "24/24 [==============================] - 4s 163ms/step - loss: 4.5872e-04 - val_loss: 3.3352e-04\n",
      "Epoch 40/100\n",
      "24/24 [==============================] - 4s 164ms/step - loss: 4.3184e-04 - val_loss: 4.2254e-04\n",
      "Epoch 41/100\n",
      "24/24 [==============================] - 4s 168ms/step - loss: 4.7117e-04 - val_loss: 3.1847e-04\n",
      "Epoch 42/100\n",
      "24/24 [==============================] - 4s 162ms/step - loss: 4.0725e-04 - val_loss: 3.3043e-04\n",
      "Epoch 43/100\n",
      "24/24 [==============================] - 4s 163ms/step - loss: 4.2624e-04 - val_loss: 2.5903e-04\n",
      "Epoch 44/100\n",
      "24/24 [==============================] - 4s 164ms/step - loss: 4.0905e-04 - val_loss: 3.2733e-04\n",
      "Epoch 45/100\n",
      "24/24 [==============================] - 4s 167ms/step - loss: 3.9567e-04 - val_loss: 2.7310e-04\n",
      "Epoch 46/100\n",
      "24/24 [==============================] - 4s 163ms/step - loss: 3.6988e-04 - val_loss: 2.8545e-04\n",
      "Epoch 47/100\n",
      "24/24 [==============================] - 4s 172ms/step - loss: 3.5761e-04 - val_loss: 2.3619e-04\n",
      "Epoch 48/100\n",
      "24/24 [==============================] - 4s 163ms/step - loss: 3.8055e-04 - val_loss: 2.5447e-04\n",
      "Epoch 49/100\n",
      "24/24 [==============================] - 4s 165ms/step - loss: 3.3653e-04 - val_loss: 2.3024e-04\n",
      "Epoch 50/100\n",
      "24/24 [==============================] - 4s 163ms/step - loss: 3.3019e-04 - val_loss: 2.7428e-04\n",
      "Epoch 51/100\n",
      "24/24 [==============================] - 4s 163ms/step - loss: 3.5840e-04 - val_loss: 2.7900e-04\n",
      "Epoch 52/100\n",
      "24/24 [==============================] - 4s 164ms/step - loss: 3.4676e-04 - val_loss: 2.4258e-04\n",
      "Epoch 53/100\n",
      "24/24 [==============================] - 4s 173ms/step - loss: 4.0426e-04 - val_loss: 2.5504e-04\n",
      "Epoch 54/100\n",
      "24/24 [==============================] - 4s 168ms/step - loss: 4.1233e-04 - val_loss: 2.3261e-04\n",
      "Epoch 55/100\n",
      "24/24 [==============================] - 4s 161ms/step - loss: 3.3680e-04 - val_loss: 2.4437e-04\n",
      "Epoch 56/100\n",
      "24/24 [==============================] - 4s 164ms/step - loss: 3.4618e-04 - val_loss: 2.2033e-04\n",
      "Epoch 57/100\n",
      "24/24 [==============================] - 4s 164ms/step - loss: 3.4423e-04 - val_loss: 2.1609e-04\n",
      "Epoch 58/100\n",
      "24/24 [==============================] - 4s 162ms/step - loss: 3.0774e-04 - val_loss: 2.7092e-04\n",
      "Epoch 59/100\n",
      "24/24 [==============================] - 4s 161ms/step - loss: 2.8976e-04 - val_loss: 1.9876e-04\n",
      "Epoch 60/100\n",
      "24/24 [==============================] - 4s 162ms/step - loss: 3.0618e-04 - val_loss: 2.3807e-04\n",
      "Epoch 61/100\n",
      "24/24 [==============================] - 4s 165ms/step - loss: 2.9879e-04 - val_loss: 2.0841e-04\n",
      "Epoch 62/100\n",
      "24/24 [==============================] - 4s 167ms/step - loss: 3.1061e-04 - val_loss: 2.5078e-04\n",
      "Epoch 63/100\n",
      "24/24 [==============================] - 4s 161ms/step - loss: 4.4266e-04 - val_loss: 2.2345e-04\n",
      "Epoch 64/100\n",
      "24/24 [==============================] - 4s 163ms/step - loss: 2.9746e-04 - val_loss: 2.4480e-04\n",
      "Epoch 65/100\n",
      "24/24 [==============================] - 4s 164ms/step - loss: 3.0579e-04 - val_loss: 1.8820e-04\n",
      "Epoch 66/100\n",
      "24/24 [==============================] - 4s 168ms/step - loss: 2.6240e-04 - val_loss: 1.9979e-04\n",
      "Epoch 67/100\n",
      "24/24 [==============================] - 4s 160ms/step - loss: 3.3129e-04 - val_loss: 2.1318e-04\n",
      "Epoch 68/100\n",
      "24/24 [==============================] - 4s 161ms/step - loss: 3.3972e-04 - val_loss: 1.9505e-04\n",
      "Epoch 69/100\n",
      "24/24 [==============================] - 4s 178ms/step - loss: 2.6916e-04 - val_loss: 1.7767e-04\n",
      "Epoch 70/100\n",
      "24/24 [==============================] - 4s 162ms/step - loss: 2.6213e-04 - val_loss: 1.7887e-04\n",
      "Epoch 71/100\n",
      "24/24 [==============================] - 4s 160ms/step - loss: 2.4089e-04 - val_loss: 1.8173e-04\n",
      "Epoch 72/100\n",
      "24/24 [==============================] - 4s 162ms/step - loss: 2.5087e-04 - val_loss: 2.0423e-04\n",
      "Epoch 73/100\n",
      "24/24 [==============================] - 4s 162ms/step - loss: 2.4363e-04 - val_loss: 1.9436e-04\n",
      "Epoch 74/100\n",
      "24/24 [==============================] - 4s 161ms/step - loss: 2.5653e-04 - val_loss: 1.7521e-04\n",
      "Epoch 75/100\n",
      "24/24 [==============================] - 4s 160ms/step - loss: 2.5385e-04 - val_loss: 1.7333e-04\n"
     ]
    },
    {
     "name": "stdout",
     "output_type": "stream",
     "text": [
      "Epoch 76/100\n",
      "24/24 [==============================] - 4s 159ms/step - loss: 2.6085e-04 - val_loss: 1.8299e-04\n",
      "Epoch 77/100\n",
      "24/24 [==============================] - 4s 163ms/step - loss: 2.4241e-04 - val_loss: 1.7254e-04\n",
      "Epoch 78/100\n",
      "24/24 [==============================] - 4s 178ms/step - loss: 2.6685e-04 - val_loss: 1.5856e-04\n",
      "Epoch 79/100\n",
      "24/24 [==============================] - 4s 161ms/step - loss: 2.5456e-04 - val_loss: 1.6396e-04\n",
      "Epoch 80/100\n",
      "24/24 [==============================] - 4s 161ms/step - loss: 2.4550e-04 - val_loss: 1.6131e-04\n",
      "Epoch 81/100\n",
      "24/24 [==============================] - 4s 166ms/step - loss: 2.2954e-04 - val_loss: 1.5753e-04\n",
      "Epoch 82/100\n",
      "24/24 [==============================] - 4s 162ms/step - loss: 2.2345e-04 - val_loss: 1.9723e-04\n",
      "Epoch 83/100\n",
      "24/24 [==============================] - 4s 161ms/step - loss: 2.2864e-04 - val_loss: 1.6600e-04\n",
      "Epoch 84/100\n",
      "24/24 [==============================] - 4s 161ms/step - loss: 2.1300e-04 - val_loss: 1.5132e-04\n",
      "Epoch 85/100\n",
      "24/24 [==============================] - 4s 163ms/step - loss: 2.3207e-04 - val_loss: 1.4720e-04\n",
      "Epoch 86/100\n",
      "24/24 [==============================] - 4s 163ms/step - loss: 2.4206e-04 - val_loss: 1.7378e-04\n",
      "Epoch 87/100\n",
      "24/24 [==============================] - 4s 161ms/step - loss: 2.9178e-04 - val_loss: 1.5050e-04\n",
      "Epoch 88/100\n",
      "24/24 [==============================] - 4s 162ms/step - loss: 2.7233e-04 - val_loss: 1.4800e-04\n",
      "Epoch 89/100\n",
      "24/24 [==============================] - 4s 175ms/step - loss: 2.5829e-04 - val_loss: 1.4445e-04\n",
      "Epoch 90/100\n",
      "24/24 [==============================] - 4s 164ms/step - loss: 2.1396e-04 - val_loss: 1.4291e-04\n",
      "Epoch 91/100\n",
      "24/24 [==============================] - 4s 178ms/step - loss: 2.1139e-04 - val_loss: 1.4875e-04\n",
      "Epoch 92/100\n",
      "24/24 [==============================] - 4s 161ms/step - loss: 2.1538e-04 - val_loss: 1.3930e-04\n",
      "Epoch 93/100\n",
      "24/24 [==============================] - 4s 164ms/step - loss: 2.0448e-04 - val_loss: 1.6694e-04\n",
      "Epoch 94/100\n",
      "24/24 [==============================] - 4s 164ms/step - loss: 2.0853e-04 - val_loss: 1.3713e-04\n",
      "Epoch 95/100\n",
      "24/24 [==============================] - 4s 162ms/step - loss: 2.2098e-04 - val_loss: 1.4209e-04\n",
      "Epoch 96/100\n",
      "24/24 [==============================] - 4s 164ms/step - loss: 2.0203e-04 - val_loss: 1.3571e-04\n",
      "Epoch 97/100\n",
      "24/24 [==============================] - 4s 177ms/step - loss: 2.4828e-04 - val_loss: 1.3561e-04\n",
      "Epoch 98/100\n",
      "24/24 [==============================] - 4s 171ms/step - loss: 2.1212e-04 - val_loss: 1.7905e-04\n",
      "Epoch 99/100\n",
      "24/24 [==============================] - 4s 161ms/step - loss: 2.0467e-04 - val_loss: 1.4022e-04\n",
      "Epoch 100/100\n",
      "24/24 [==============================] - 4s 165ms/step - loss: 2.0340e-04 - val_loss: 1.3131e-04\n"
     ]
    },
    {
     "data": {
      "text/plain": [
       "<tensorflow.python.keras.callbacks.History at 0x251dbdc0c10>"
      ]
     },
     "execution_count": 16,
     "metadata": {},
     "output_type": "execute_result"
    }
   ],
   "source": [
    "model.fit(x_train, y_train, validation_data = (x_test, y_test), epochs = 100, batch_size = 64, verbose = 1)"
   ]
  },
  {
   "cell_type": "code",
   "execution_count": 17,
   "id": "2f283d14",
   "metadata": {},
   "outputs": [],
   "source": [
    "#Lets predict and check performance metrics\n",
    "train_predict = model.predict(x_train)\n",
    "test_predict = model.predict(x_test)"
   ]
  },
  {
   "cell_type": "code",
   "execution_count": 18,
   "id": "884f9a08",
   "metadata": {},
   "outputs": [],
   "source": [
    "#Transform back to original form\n",
    "train_predict = scaler.inverse_transform(train_predict)\n",
    "test_predict = scaler.inverse_transform(test_predict)"
   ]
  },
  {
   "cell_type": "code",
   "execution_count": 19,
   "id": "e9a2b2f0",
   "metadata": {},
   "outputs": [
    {
     "data": {
      "text/plain": [
       "0.013839420926379341"
      ]
     },
     "execution_count": 19,
     "metadata": {},
     "output_type": "execute_result"
    }
   ],
   "source": [
    "#Calculate RMSE performance metrics\n",
    "math.sqrt(mean_squared_error(y_train, train_predict))"
   ]
  },
  {
   "cell_type": "code",
   "execution_count": 20,
   "id": "77bd95d6",
   "metadata": {},
   "outputs": [
    {
     "data": {
      "text/plain": [
       "0.011458946178041824"
      ]
     },
     "execution_count": 20,
     "metadata": {},
     "output_type": "execute_result"
    }
   ],
   "source": [
    "#Test Data RMSE\n",
    "math.sqrt(mean_squared_error(y_test, test_predict))"
   ]
  },
  {
   "cell_type": "code",
   "execution_count": 22,
   "id": "244ac21f",
   "metadata": {},
   "outputs": [
    {
     "data": {
      "image/png": "[encoded data removed]",
      "text/plain": [
       "<Figure size 432x288 with 1 Axes>"
      ]
     },
     "metadata": {
      "needs_background": "light"
     },
     "output_type": "display_data"
    }
   ],
   "source": [
    "#plotting\n",
    "plt.plot(scaler.inverse_transform(df1), color = 'black', label = 'complete data')\n",
    "plt.plot(train_predict, color = 'orange', label = 'train data')\n",
    "plt.plot(test_predict, color = 'green', label = 'Predicted data')\n",
    "plt.title('TATA Stock Price Prediction')\n",
    "plt.xlabel('Time')\n",
    "plt.ylabel('TATA Stock Price')\n",
    "plt.legend()\n",
    "plt.show()"
   ]
  },
  {
   "cell_type": "code",
   "execution_count": 24,
   "id": "bcb823c7",
   "metadata": {},
   "outputs": [
    {
     "data": {
      "image/png": "[encoded data removed]",
      "text/plain": [
       "<Figure size 432x288 with 1 Axes>"
      ]
     },
     "metadata": {
      "needs_background": "light"
     },
     "output_type": "display_data"
    }
   ],
   "source": [
    "#Plotting\n",
    "\n",
    "#Shift train prediction for plotting\n",
    "look_back = 100\n",
    "trainPredictPlot = np.empty_like(df1)\n",
    "trainPredictPlot[:,:] = np.nan\n",
    "trainPredictPlot[look_back:len(train_predict) + look_back, :] = train_predict\n",
    "\n",
    "#Shift test prediction for plotting\n",
    "testPredictPlot = np.empty_like(df1)\n",
    "testPredictPlot[:,:] = np.nan\n",
    "testPredictPlot[len(train_predict) + (look_back * 2)+1:len(df1) - 1, :] = test_predict\n",
    "\n",
    "#Plot baseline and predictions\n",
    "plt.plot(scaler.inverse_transform(df1))\n",
    "plt.plot(trainPredictPlot)\n",
    "plt.plot(testPredictPlot)\n",
    "plt.show()"
   ]
  }
 ],
 "metadata": {
  "kernelspec": {
   "display_name": "Python 3 (ipykernel)",
   "language": "python",
   "name": "python3"
  },
  "language_info": {
   "codemirror_mode": {
    "name": "ipython",
    "version": 3
   },
   "file_extension": ".py",
   "mimetype": "text/x-python",
   "name": "python",
   "nbconvert_exporter": "python",
   "pygments_lexer": "ipython3",
   "version": "3.9.12"
  }
 },
 "nbformat": 4,
 "nbformat_minor": 5
}
