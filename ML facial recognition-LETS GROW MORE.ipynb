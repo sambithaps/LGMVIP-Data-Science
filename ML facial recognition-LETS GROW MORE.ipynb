{
 "cells": [
  {
   "cell_type": "markdown",
   "id": "4be00d1f",
   "metadata": {},
   "source": [
    "# LETS GROW MORE-DATA SCIENCE\n",
    "\n",
    "### AUTHOR: Sambitha P Santhosh\n",
    "\n",
    "### OBJECTIVE: ML Facial recognition to detect mood and suggest songs accordingly "
   ]
  },
  {
   "cell_type": "code",
   "execution_count": null,
   "id": "ba630221",
   "metadata": {},
   "outputs": [],
   "source": []
  }
 ],
 "metadata": {
  "kernelspec": {
   "display_name": "Python 3 (ipykernel)",
   "language": "python",
   "name": "python3"
  },
  "language_info": {
   "codemirror_mode": {
    "name": "ipython",
    "version": 3
   },
   "file_extension": ".py",
   "mimetype": "text/x-python",
   "name": "python",
   "nbconvert_exporter": "python",
   "pygments_lexer": "ipython3",
   "version": "3.9.12"
  }
 },
 "nbformat": 4,
 "nbformat_minor": 5
}
